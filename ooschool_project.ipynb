{
 "cells": [
  {
   "cell_type": "code",
   "execution_count": null,
   "id": "b70ae750-e917-40e4-8494-b8018cda599a",
   "metadata": {},
   "outputs": [],
   "source": [
    "##第一階段作業：爬取資料、資料視覺化\n",
    "pip install twstock\n",
    "pip install --upgrade mplfinance"
   ]
  },
  {
   "cell_type": "code",
   "execution_count": 1,
   "id": "7dc36dd5-12c7-4da7-9221-eff7491a3cfc",
   "metadata": {},
   "outputs": [],
   "source": [
    "import twstock\n",
    "import pandas as pd\n",
    "import matplotlib \n",
    "import mplfinance as mpf"
   ]
  },
  {
   "cell_type": "code",
   "execution_count": 2,
   "id": "5d0fe329-e740-4280-8f68-c51dfe2993c6",
   "metadata": {},
   "outputs": [
    {
     "name": "stdout",
     "output_type": "stream",
     "text": [
      "StockCodeInfo(type='ETF', code='0050', name='元大台灣50', ISIN='TW0000050004', start='2003/06/30', market='上市', group='', CFI='CEOGEU')\n"
     ]
    }
   ],
   "source": [
    "#抓取資料（參考：https://hackmd.io/@s02260441/HJcMcnds8）\n",
    "stock = twstock.Stock('0050')\n",
    "print(twstock.codes['0050'])"
   ]
  },
  {
   "cell_type": "code",
   "execution_count": 3,
   "id": "03ec5efb-e7cf-4c6c-a188-8d1fc8076490",
   "metadata": {},
   "outputs": [],
   "source": [
    "price = stock.fetch_from(2010, 1) #股市建立於2003/6/30，但資料從2010/1/4才開始有"
   ]
  },
  {
   "cell_type": "code",
   "execution_count": 4,
   "id": "e3c3a286-ec12-4b77-9d19-335b473d5b6c",
   "metadata": {},
   "outputs": [],
   "source": [
    "name_attribute = ['Date', 'Capacity', 'Volume', 'Open', 'High', 'Low', 'Close', 'Change', 'Transcation']"
   ]
  },
  {
   "cell_type": "code",
   "execution_count": 10,
   "id": "d2ceb870-7695-4ce9-8dbf-1d65e931af02",
   "metadata": {},
   "outputs": [
    {
     "data": {
      "text/html": [
       "<div>\n",
       "<style scoped>\n",
       "    .dataframe tbody tr th:only-of-type {\n",
       "        vertical-align: middle;\n",
       "    }\n",
       "\n",
       "    .dataframe tbody tr th {\n",
       "        vertical-align: top;\n",
       "    }\n",
       "\n",
       "    .dataframe thead th {\n",
       "        text-align: right;\n",
       "    }\n",
       "</style>\n",
       "<table border=\"1\" class=\"dataframe\">\n",
       "  <thead>\n",
       "    <tr style=\"text-align: right;\">\n",
       "      <th></th>\n",
       "      <th>Date</th>\n",
       "      <th>Capacity</th>\n",
       "      <th>Volume</th>\n",
       "      <th>Open</th>\n",
       "      <th>High</th>\n",
       "      <th>Low</th>\n",
       "      <th>Close</th>\n",
       "      <th>Change</th>\n",
       "      <th>Transcation</th>\n",
       "    </tr>\n",
       "  </thead>\n",
       "  <tbody>\n",
       "    <tr>\n",
       "      <th>3512</th>\n",
       "      <td>2024-04-26</td>\n",
       "      <td>6054296</td>\n",
       "      <td>945852784</td>\n",
       "      <td>156.00</td>\n",
       "      <td>156.80</td>\n",
       "      <td>155.50</td>\n",
       "      <td>156.00</td>\n",
       "      <td>2.50</td>\n",
       "      <td>7970</td>\n",
       "    </tr>\n",
       "    <tr>\n",
       "      <th>3513</th>\n",
       "      <td>2024-04-29</td>\n",
       "      <td>8135962</td>\n",
       "      <td>1289630787</td>\n",
       "      <td>157.30</td>\n",
       "      <td>159.10</td>\n",
       "      <td>157.30</td>\n",
       "      <td>158.80</td>\n",
       "      <td>2.80</td>\n",
       "      <td>10501</td>\n",
       "    </tr>\n",
       "    <tr>\n",
       "      <th>3514</th>\n",
       "      <td>2024-04-30</td>\n",
       "      <td>4792141</td>\n",
       "      <td>761950562</td>\n",
       "      <td>158.60</td>\n",
       "      <td>159.35</td>\n",
       "      <td>158.25</td>\n",
       "      <td>158.25</td>\n",
       "      <td>-0.55</td>\n",
       "      <td>6586</td>\n",
       "    </tr>\n",
       "    <tr>\n",
       "      <th>3515</th>\n",
       "      <td>2024-05-02</td>\n",
       "      <td>6666498</td>\n",
       "      <td>1042279767</td>\n",
       "      <td>157.35</td>\n",
       "      <td>157.35</td>\n",
       "      <td>156.00</td>\n",
       "      <td>156.15</td>\n",
       "      <td>-2.10</td>\n",
       "      <td>12625</td>\n",
       "    </tr>\n",
       "    <tr>\n",
       "      <th>3516</th>\n",
       "      <td>2024-05-03</td>\n",
       "      <td>5935465</td>\n",
       "      <td>936184397</td>\n",
       "      <td>158.55</td>\n",
       "      <td>158.65</td>\n",
       "      <td>156.45</td>\n",
       "      <td>156.95</td>\n",
       "      <td>0.80</td>\n",
       "      <td>6876</td>\n",
       "    </tr>\n",
       "  </tbody>\n",
       "</table>\n",
       "</div>"
      ],
      "text/plain": [
       "           Date  Capacity      Volume    Open    High     Low   Close  Change  \\\n",
       "3512 2024-04-26   6054296   945852784  156.00  156.80  155.50  156.00    2.50   \n",
       "3513 2024-04-29   8135962  1289630787  157.30  159.10  157.30  158.80    2.80   \n",
       "3514 2024-04-30   4792141   761950562  158.60  159.35  158.25  158.25   -0.55   \n",
       "3515 2024-05-02   6666498  1042279767  157.35  157.35  156.00  156.15   -2.10   \n",
       "3516 2024-05-03   5935465   936184397  158.55  158.65  156.45  156.95    0.80   \n",
       "\n",
       "      Transcation  \n",
       "3512         7970  \n",
       "3513        10501  \n",
       "3514         6586  \n",
       "3515        12625  \n",
       "3516         6876  "
      ]
     },
     "execution_count": 10,
     "metadata": {},
     "output_type": "execute_result"
    }
   ],
   "source": [
    "df = pd.DataFrame(data = price, columns = name_attribute)\n",
    "df.head()\n",
    "df.tail()"
   ]
  },
  {
   "cell_type": "code",
   "execution_count": 6,
   "id": "13f5b714-f8d7-4cf8-9a81-63eabdb5e85b",
   "metadata": {},
   "outputs": [
    {
     "name": "stdout",
     "output_type": "stream",
     "text": [
      "<class 'pandas.core.frame.DataFrame'>\n",
      "RangeIndex: 3517 entries, 0 to 3516\n",
      "Data columns (total 9 columns):\n",
      " #   Column       Non-Null Count  Dtype         \n",
      "---  ------       --------------  -----         \n",
      " 0   Date         3517 non-null   datetime64[ns]\n",
      " 1   Capacity     3517 non-null   int64         \n",
      " 2   Volume       3517 non-null   int64         \n",
      " 3   Open         3517 non-null   float64       \n",
      " 4   High         3517 non-null   float64       \n",
      " 5   Low          3517 non-null   float64       \n",
      " 6   Close        3517 non-null   float64       \n",
      " 7   Change       3517 non-null   float64       \n",
      " 8   Transcation  3517 non-null   int64         \n",
      "dtypes: datetime64[ns](1), float64(5), int64(3)\n",
      "memory usage: 247.4 KB\n"
     ]
    },
    {
     "data": {
      "text/plain": [
       "(3517, 9)"
      ]
     },
     "execution_count": 6,
     "metadata": {},
     "output_type": "execute_result"
    }
   ],
   "source": [
    "df.info()\n",
    "df.shape"
   ]
  },
  {
   "cell_type": "code",
   "execution_count": 8,
   "id": "96fd9185-b078-4cb0-86d1-28838a4cede0",
   "metadata": {},
   "outputs": [],
   "source": [
    "#save dataframe\n",
    "df.to_csv('./stock_0050_price.csv')"
   ]
  },
  {
   "cell_type": "code",
   "execution_count": 78,
   "id": "1a1f4692-7d2e-4297-87b5-6b32821eef29",
   "metadata": {},
   "outputs": [],
   "source": [
    "#save subset dataframe 2024\n",
    "df_sub.to_csv('./0050_2024price.csv')"
   ]
  },
  {
   "cell_type": "code",
   "execution_count": 27,
   "id": "bf455f51-379e-4b2e-9d0b-da013a68191b",
   "metadata": {},
   "outputs": [],
   "source": [
    "#資料視覺化（參考：https://hackmd.io/v7m8LMfzQHu1y_dQNuXwbQ）\n",
    "#read data\n",
    "df = pd.read_csv('./stock_0050_price.csv', parse_dates = True, index_col = 1)"
   ]
  },
  {
   "cell_type": "code",
   "execution_count": 28,
   "id": "09d742af-ce3a-498c-bacb-1282309773a8",
   "metadata": {},
   "outputs": [
    {
     "data": {
      "text/html": [
       "<div>\n",
       "<style scoped>\n",
       "    .dataframe tbody tr th:only-of-type {\n",
       "        vertical-align: middle;\n",
       "    }\n",
       "\n",
       "    .dataframe tbody tr th {\n",
       "        vertical-align: top;\n",
       "    }\n",
       "\n",
       "    .dataframe thead th {\n",
       "        text-align: right;\n",
       "    }\n",
       "</style>\n",
       "<table border=\"1\" class=\"dataframe\">\n",
       "  <thead>\n",
       "    <tr style=\"text-align: right;\">\n",
       "      <th></th>\n",
       "      <th>Unnamed: 0</th>\n",
       "      <th>Capacity</th>\n",
       "      <th>Volume</th>\n",
       "      <th>Open</th>\n",
       "      <th>High</th>\n",
       "      <th>Low</th>\n",
       "      <th>Close</th>\n",
       "      <th>Change</th>\n",
       "      <th>Transcation</th>\n",
       "    </tr>\n",
       "    <tr>\n",
       "      <th>Date</th>\n",
       "      <th></th>\n",
       "      <th></th>\n",
       "      <th></th>\n",
       "      <th></th>\n",
       "      <th></th>\n",
       "      <th></th>\n",
       "      <th></th>\n",
       "      <th></th>\n",
       "      <th></th>\n",
       "    </tr>\n",
       "  </thead>\n",
       "  <tbody>\n",
       "    <tr>\n",
       "      <th>2010-01-04</th>\n",
       "      <td>0</td>\n",
       "      <td>20083125</td>\n",
       "      <td>1132155005</td>\n",
       "      <td>56.45</td>\n",
       "      <td>56.65</td>\n",
       "      <td>56.05</td>\n",
       "      <td>56.50</td>\n",
       "      <td>0.05</td>\n",
       "      <td>1624</td>\n",
       "    </tr>\n",
       "    <tr>\n",
       "      <th>2010-01-05</th>\n",
       "      <td>1</td>\n",
       "      <td>16453854</td>\n",
       "      <td>932015376</td>\n",
       "      <td>56.80</td>\n",
       "      <td>56.90</td>\n",
       "      <td>56.15</td>\n",
       "      <td>56.50</td>\n",
       "      <td>0.00</td>\n",
       "      <td>1866</td>\n",
       "    </tr>\n",
       "    <tr>\n",
       "      <th>2010-01-06</th>\n",
       "      <td>2</td>\n",
       "      <td>19012172</td>\n",
       "      <td>1087143829</td>\n",
       "      <td>56.50</td>\n",
       "      <td>57.75</td>\n",
       "      <td>56.50</td>\n",
       "      <td>57.55</td>\n",
       "      <td>1.05</td>\n",
       "      <td>2958</td>\n",
       "    </tr>\n",
       "    <tr>\n",
       "      <th>2010-01-07</th>\n",
       "      <td>3</td>\n",
       "      <td>14110575</td>\n",
       "      <td>814344344</td>\n",
       "      <td>57.60</td>\n",
       "      <td>58.15</td>\n",
       "      <td>57.30</td>\n",
       "      <td>57.40</td>\n",
       "      <td>-0.15</td>\n",
       "      <td>1846</td>\n",
       "    </tr>\n",
       "    <tr>\n",
       "      <th>2010-01-08</th>\n",
       "      <td>4</td>\n",
       "      <td>11342752</td>\n",
       "      <td>651830965</td>\n",
       "      <td>57.30</td>\n",
       "      <td>57.75</td>\n",
       "      <td>57.05</td>\n",
       "      <td>57.75</td>\n",
       "      <td>0.35</td>\n",
       "      <td>1493</td>\n",
       "    </tr>\n",
       "  </tbody>\n",
       "</table>\n",
       "</div>"
      ],
      "text/plain": [
       "            Unnamed: 0  Capacity      Volume   Open   High    Low  Close  \\\n",
       "Date                                                                       \n",
       "2010-01-04           0  20083125  1132155005  56.45  56.65  56.05  56.50   \n",
       "2010-01-05           1  16453854   932015376  56.80  56.90  56.15  56.50   \n",
       "2010-01-06           2  19012172  1087143829  56.50  57.75  56.50  57.55   \n",
       "2010-01-07           3  14110575   814344344  57.60  58.15  57.30  57.40   \n",
       "2010-01-08           4  11342752   651830965  57.30  57.75  57.05  57.75   \n",
       "\n",
       "            Change  Transcation  \n",
       "Date                             \n",
       "2010-01-04    0.05         1624  \n",
       "2010-01-05    0.00         1866  \n",
       "2010-01-06    1.05         2958  \n",
       "2010-01-07   -0.15         1846  \n",
       "2010-01-08    0.35         1493  "
      ]
     },
     "execution_count": 28,
     "metadata": {},
     "output_type": "execute_result"
    }
   ],
   "source": [
    "df.head()"
   ]
  },
  {
   "cell_type": "code",
   "execution_count": 29,
   "id": "15170711-ecca-49de-8cf6-691d8b12dbb2",
   "metadata": {},
   "outputs": [
    {
     "data": {
      "text/plain": [
       "<Axes: xlabel='Date'>"
      ]
     },
     "execution_count": 29,
     "metadata": {},
     "output_type": "execute_result"
    },
    {
     "data": {
      "image/png": "[encoded data removed]",
      "text/plain": [
       "<Figure size 640x480 with 1 Axes>"
      ]
     },
     "metadata": {},
     "output_type": "display_data"
    }
   ],
   "source": [
    "#visualize stock price 粗略看一下股價走勢\n",
    "df.plot.line(y = 'Close', use_index = True)"
   ]
  },
  {
   "cell_type": "code",
   "execution_count": 63,
   "id": "6e7437fc-3fed-41cd-a0e4-7136c17a5e7a",
   "metadata": {},
   "outputs": [
    {
     "data": {
      "image/png": "[encoded data removed]",
      "text/plain": [
       "<Figure size 1100x800 with 1 Axes>"
      ]
     },
     "metadata": {},
     "output_type": "display_data"
    }
   ],
   "source": [
    "#標注重大經融事件\n",
    "ax = df.plot.line(y = 'Close', use_index = True, figsize = (11, 8))\n",
    "events = ['2011-02-08', '2015-04-28', '2018-10-02', '2020-01-20', '2022-01-05']\n",
    "for i in events:\n",
    "    ax.axvline(pd.to_datetime(i), color = 'r', linestyle = '--', lw = 0.9)"
   ]
  },
  {
   "cell_type": "code",
   "execution_count": 65,
   "id": "cc822c1b-dc57-4e0e-93c4-a8865589bbee",
   "metadata": {},
   "outputs": [],
   "source": [
    "#匯出圖\n",
    "ax.figure.savefig('0050_lineplot.png')"
   ]
  },
  {
   "cell_type": "code",
   "execution_count": 32,
   "id": "4ac2c578-cdac-4ef3-b467-8c407fad15d3",
   "metadata": {},
   "outputs": [],
   "source": [
    "#2024年的股價細看趨勢\n",
    "#subset past one year data\n",
    "df_sub = df.loc['2024-01-01':]"
   ]
  },
  {
   "cell_type": "code",
   "execution_count": 33,
   "id": "83e89f87-5fb7-4e3e-812a-36c95da2b925",
   "metadata": {},
   "outputs": [
    {
     "data": {
      "text/html": [
       "<div>\n",
       "<style scoped>\n",
       "    .dataframe tbody tr th:only-of-type {\n",
       "        vertical-align: middle;\n",
       "    }\n",
       "\n",
       "    .dataframe tbody tr th {\n",
       "        vertical-align: top;\n",
       "    }\n",
       "\n",
       "    .dataframe thead th {\n",
       "        text-align: right;\n",
       "    }\n",
       "</style>\n",
       "<table border=\"1\" class=\"dataframe\">\n",
       "  <thead>\n",
       "    <tr style=\"text-align: right;\">\n",
       "      <th></th>\n",
       "      <th>Unnamed: 0</th>\n",
       "      <th>Capacity</th>\n",
       "      <th>Volume</th>\n",
       "      <th>Open</th>\n",
       "      <th>High</th>\n",
       "      <th>Low</th>\n",
       "      <th>Close</th>\n",
       "      <th>Change</th>\n",
       "      <th>Transcation</th>\n",
       "    </tr>\n",
       "    <tr>\n",
       "      <th>Date</th>\n",
       "      <th></th>\n",
       "      <th></th>\n",
       "      <th></th>\n",
       "      <th></th>\n",
       "      <th></th>\n",
       "      <th></th>\n",
       "      <th></th>\n",
       "      <th></th>\n",
       "      <th></th>\n",
       "    </tr>\n",
       "  </thead>\n",
       "  <tbody>\n",
       "    <tr>\n",
       "      <th>2024-01-02</th>\n",
       "      <td>3439</td>\n",
       "      <td>6283610</td>\n",
       "      <td>848793104</td>\n",
       "      <td>135.60</td>\n",
       "      <td>135.95</td>\n",
       "      <td>134.65</td>\n",
       "      <td>134.90</td>\n",
       "      <td>-0.55</td>\n",
       "      <td>10013</td>\n",
       "    </tr>\n",
       "    <tr>\n",
       "      <th>2024-01-03</th>\n",
       "      <td>3440</td>\n",
       "      <td>14783894</td>\n",
       "      <td>1963126583</td>\n",
       "      <td>133.70</td>\n",
       "      <td>133.90</td>\n",
       "      <td>132.30</td>\n",
       "      <td>132.55</td>\n",
       "      <td>-2.35</td>\n",
       "      <td>25258</td>\n",
       "    </tr>\n",
       "    <tr>\n",
       "      <th>2024-01-04</th>\n",
       "      <td>3441</td>\n",
       "      <td>4838660</td>\n",
       "      <td>641202865</td>\n",
       "      <td>132.55</td>\n",
       "      <td>132.75</td>\n",
       "      <td>132.30</td>\n",
       "      <td>132.50</td>\n",
       "      <td>-0.05</td>\n",
       "      <td>7094</td>\n",
       "    </tr>\n",
       "    <tr>\n",
       "      <th>2024-01-05</th>\n",
       "      <td>3442</td>\n",
       "      <td>4566320</td>\n",
       "      <td>604475455</td>\n",
       "      <td>132.55</td>\n",
       "      <td>132.95</td>\n",
       "      <td>132.10</td>\n",
       "      <td>132.15</td>\n",
       "      <td>-0.35</td>\n",
       "      <td>12744</td>\n",
       "    </tr>\n",
       "    <tr>\n",
       "      <th>2024-01-08</th>\n",
       "      <td>3443</td>\n",
       "      <td>9657556</td>\n",
       "      <td>1285524342</td>\n",
       "      <td>133.00</td>\n",
       "      <td>133.60</td>\n",
       "      <td>132.75</td>\n",
       "      <td>132.75</td>\n",
       "      <td>0.60</td>\n",
       "      <td>9876</td>\n",
       "    </tr>\n",
       "  </tbody>\n",
       "</table>\n",
       "</div>"
      ],
      "text/plain": [
       "            Unnamed: 0  Capacity      Volume    Open    High     Low   Close  \\\n",
       "Date                                                                           \n",
       "2024-01-02        3439   6283610   848793104  135.60  135.95  134.65  134.90   \n",
       "2024-01-03        3440  14783894  1963126583  133.70  133.90  132.30  132.55   \n",
       "2024-01-04        3441   4838660   641202865  132.55  132.75  132.30  132.50   \n",
       "2024-01-05        3442   4566320   604475455  132.55  132.95  132.10  132.15   \n",
       "2024-01-08        3443   9657556  1285524342  133.00  133.60  132.75  132.75   \n",
       "\n",
       "            Change  Transcation  \n",
       "Date                             \n",
       "2024-01-02   -0.55        10013  \n",
       "2024-01-03   -2.35        25258  \n",
       "2024-01-04   -0.05         7094  \n",
       "2024-01-05   -0.35        12744  \n",
       "2024-01-08    0.60         9876  "
      ]
     },
     "execution_count": 33,
     "metadata": {},
     "output_type": "execute_result"
    }
   ],
   "source": [
    "df_sub.head()"
   ]
  },
  {
   "cell_type": "code",
   "execution_count": 41,
   "id": "2a5e8c55-b189-4eb6-bc92-b0b776a7e781",
   "metadata": {},
   "outputs": [],
   "source": [
    "#create plot style\n",
    "mc = mpf.make_marketcolors(up = 'red', down = 'green', inherit = True)\n",
    "s  = mpf.make_mpf_style(marketcolors = mc, base_mpf_style = 'yahoo')"
   ]
  },
  {
   "cell_type": "code",
   "execution_count": 86,
   "id": "40d1e66a-ab45-4385-ad01-c8df5d6e45bc",
   "metadata": {},
   "outputs": [],
   "source": [
    "kwargs = dict(type = 'candle', volume = True, title = '0050 Stock Price', mav = (5, 20, 60), style = s, figratio = (15,9), figscale = 0.90,\n",
    "             show_nontrading = True)"
   ]
  },
  {
   "cell_type": "code",
   "execution_count": 88,
   "id": "a5e293be-4db6-4062-90b0-4a743e43147b",
   "metadata": {},
   "outputs": [],
   "source": [
    "mpf.plot(df_sub, **kwargs, savefig = '0050_mpfplot.png')"
   ]
  }
 ],
 "metadata": {
  "kernelspec": {
   "display_name": "Python 3 (ipykernel)",
   "language": "python",
   "name": "python3"
  },
  "language_info": {
   "codemirror_mode": {
    "name": "ipython",
    "version": 3
   },
   "file_extension": ".py",
   "mimetype": "text/x-python",
   "name": "python",
   "nbconvert_exporter": "python",
   "pygments_lexer": "ipython3",
   "version": "3.11.7"
  }
 },
 "nbformat": 4,
 "nbformat_minor": 5
}
