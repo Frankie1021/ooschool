{
 "cells": [
  {
   "cell_type": "code",
   "execution_count": 1,
   "id": "bff9fbd0-9e9e-482c-928a-06e58c1a72f5",
   "metadata": {},
   "outputs": [],
   "source": [
    "#try xgboost\n",
    "import pandas as pd\n",
    "import numpy as np\n",
    "import xgboost as xgb"
   ]
  },
  {
   "cell_type": "code",
   "execution_count": 2,
   "id": "ce7114c5-3b99-44b8-913a-448108dd508a",
   "metadata": {},
   "outputs": [],
   "source": [
    "df = pd.read_csv('/Users/frankieshen/Desktop/ooschool/專案/stock_0050_final.csv', parse_dates = True, index_col = 0)"
   ]
  },
  {
   "cell_type": "code",
   "execution_count": 3,
   "id": "435b9e3c-c09e-40b6-a4f2-eeaecbd2b724",
   "metadata": {},
   "outputs": [
    {
     "name": "stdout",
     "output_type": "stream",
     "text": [
      "Index(['Unnamed: 0', 'Capacity', 'Volume', 'Open', 'High', 'Low', 'Close',\n",
      "       'Change', 'Transcation', 'Tomorrow', 'Target', 'SMA_20', 'RSI', 'slowk',\n",
      "       'slowd', 'MACD', 'MACD_signal', 'MACD_hist', 'upper_band',\n",
      "       'middle_band', 'lower_band'],\n",
      "      dtype='object')\n",
      "(3483, 21)\n",
      "<class 'pandas.core.frame.DataFrame'>\n"
     ]
    }
   ],
   "source": [
    "print(df.columns)\n",
    "print(df.shape)\n",
    "print(type(df))"
   ]
  },
  {
   "cell_type": "code",
   "execution_count": 4,
   "id": "0f60cd45-fbdb-4bc6-afc8-2bf5e53aa56f",
   "metadata": {},
   "outputs": [
    {
     "data": {
      "text/html": [
       "<div>\n",
       "<style scoped>\n",
       "    .dataframe tbody tr th:only-of-type {\n",
       "        vertical-align: middle;\n",
       "    }\n",
       "\n",
       "    .dataframe tbody tr th {\n",
       "        vertical-align: top;\n",
       "    }\n",
       "\n",
       "    .dataframe thead th {\n",
       "        text-align: right;\n",
       "    }\n",
       "</style>\n",
       "<table border=\"1\" class=\"dataframe\">\n",
       "  <thead>\n",
       "    <tr style=\"text-align: right;\">\n",
       "      <th></th>\n",
       "      <th>Unnamed: 0</th>\n",
       "      <th>Capacity</th>\n",
       "      <th>Volume</th>\n",
       "      <th>Open</th>\n",
       "      <th>High</th>\n",
       "      <th>Low</th>\n",
       "      <th>Close</th>\n",
       "      <th>Change</th>\n",
       "      <th>Transcation</th>\n",
       "      <th>Tomorrow</th>\n",
       "      <th>...</th>\n",
       "      <th>SMA_20</th>\n",
       "      <th>RSI</th>\n",
       "      <th>slowk</th>\n",
       "      <th>slowd</th>\n",
       "      <th>MACD</th>\n",
       "      <th>MACD_signal</th>\n",
       "      <th>MACD_hist</th>\n",
       "      <th>upper_band</th>\n",
       "      <th>middle_band</th>\n",
       "      <th>lower_band</th>\n",
       "    </tr>\n",
       "    <tr>\n",
       "      <th>Date</th>\n",
       "      <th></th>\n",
       "      <th></th>\n",
       "      <th></th>\n",
       "      <th></th>\n",
       "      <th></th>\n",
       "      <th></th>\n",
       "      <th></th>\n",
       "      <th></th>\n",
       "      <th></th>\n",
       "      <th></th>\n",
       "      <th></th>\n",
       "      <th></th>\n",
       "      <th></th>\n",
       "      <th></th>\n",
       "      <th></th>\n",
       "      <th></th>\n",
       "      <th></th>\n",
       "      <th></th>\n",
       "      <th></th>\n",
       "      <th></th>\n",
       "      <th></th>\n",
       "    </tr>\n",
       "  </thead>\n",
       "  <tbody>\n",
       "    <tr>\n",
       "      <th>2010-02-26</th>\n",
       "      <td>33</td>\n",
       "      <td>9391284</td>\n",
       "      <td>483837797</td>\n",
       "      <td>51.65</td>\n",
       "      <td>51.75</td>\n",
       "      <td>51.20</td>\n",
       "      <td>51.55</td>\n",
       "      <td>-0.10</td>\n",
       "      <td>1366</td>\n",
       "      <td>52.80</td>\n",
       "      <td>...</td>\n",
       "      <td>52.4075</td>\n",
       "      <td>38.424149</td>\n",
       "      <td>46.288720</td>\n",
       "      <td>50.743915</td>\n",
       "      <td>-1.500417</td>\n",
       "      <td>-1.927544</td>\n",
       "      <td>0.427127</td>\n",
       "      <td>54.411814</td>\n",
       "      <td>52.4075</td>\n",
       "      <td>50.403186</td>\n",
       "    </tr>\n",
       "    <tr>\n",
       "      <th>2010-03-01</th>\n",
       "      <td>34</td>\n",
       "      <td>13647130</td>\n",
       "      <td>715419506</td>\n",
       "      <td>51.50</td>\n",
       "      <td>52.95</td>\n",
       "      <td>51.50</td>\n",
       "      <td>52.80</td>\n",
       "      <td>1.25</td>\n",
       "      <td>2066</td>\n",
       "      <td>52.65</td>\n",
       "      <td>...</td>\n",
       "      <td>52.3275</td>\n",
       "      <td>47.850461</td>\n",
       "      <td>58.861819</td>\n",
       "      <td>52.243188</td>\n",
       "      <td>-1.336577</td>\n",
       "      <td>-1.809351</td>\n",
       "      <td>0.472774</td>\n",
       "      <td>54.124296</td>\n",
       "      <td>52.3275</td>\n",
       "      <td>50.530704</td>\n",
       "    </tr>\n",
       "    <tr>\n",
       "      <th>2010-03-02</th>\n",
       "      <td>35</td>\n",
       "      <td>9997438</td>\n",
       "      <td>528112268</td>\n",
       "      <td>52.75</td>\n",
       "      <td>53.10</td>\n",
       "      <td>52.55</td>\n",
       "      <td>52.65</td>\n",
       "      <td>-0.15</td>\n",
       "      <td>1225</td>\n",
       "      <td>52.65</td>\n",
       "      <td>...</td>\n",
       "      <td>52.2500</td>\n",
       "      <td>46.922188</td>\n",
       "      <td>71.092962</td>\n",
       "      <td>58.747834</td>\n",
       "      <td>-1.204946</td>\n",
       "      <td>-1.688470</td>\n",
       "      <td>0.483524</td>\n",
       "      <td>53.838710</td>\n",
       "      <td>52.2500</td>\n",
       "      <td>50.661290</td>\n",
       "    </tr>\n",
       "    <tr>\n",
       "      <th>2010-03-03</th>\n",
       "      <td>36</td>\n",
       "      <td>8764746</td>\n",
       "      <td>462426932</td>\n",
       "      <td>52.70</td>\n",
       "      <td>53.10</td>\n",
       "      <td>52.50</td>\n",
       "      <td>52.65</td>\n",
       "      <td>0.00</td>\n",
       "      <td>1041</td>\n",
       "      <td>52.20</td>\n",
       "      <td>...</td>\n",
       "      <td>52.2350</td>\n",
       "      <td>46.922188</td>\n",
       "      <td>84.210526</td>\n",
       "      <td>71.388436</td>\n",
       "      <td>-1.088085</td>\n",
       "      <td>-1.568393</td>\n",
       "      <td>0.480308</td>\n",
       "      <td>53.802514</td>\n",
       "      <td>52.2350</td>\n",
       "      <td>50.667486</td>\n",
       "    </tr>\n",
       "    <tr>\n",
       "      <th>2010-03-04</th>\n",
       "      <td>37</td>\n",
       "      <td>8149453</td>\n",
       "      <td>426373974</td>\n",
       "      <td>52.75</td>\n",
       "      <td>52.90</td>\n",
       "      <td>51.80</td>\n",
       "      <td>52.20</td>\n",
       "      <td>-0.45</td>\n",
       "      <td>1295</td>\n",
       "      <td>52.95</td>\n",
       "      <td>...</td>\n",
       "      <td>52.2000</td>\n",
       "      <td>43.955363</td>\n",
       "      <td>77.192982</td>\n",
       "      <td>77.498824</td>\n",
       "      <td>-1.020025</td>\n",
       "      <td>-1.458719</td>\n",
       "      <td>0.438694</td>\n",
       "      <td>53.737530</td>\n",
       "      <td>52.2000</td>\n",
       "      <td>50.662470</td>\n",
       "    </tr>\n",
       "  </tbody>\n",
       "</table>\n",
       "<p>5 rows × 21 columns</p>\n",
       "</div>"
      ],
      "text/plain": [
       "            Unnamed: 0  Capacity     Volume   Open   High    Low  Close  \\\n",
       "Date                                                                      \n",
       "2010-02-26          33   9391284  483837797  51.65  51.75  51.20  51.55   \n",
       "2010-03-01          34  13647130  715419506  51.50  52.95  51.50  52.80   \n",
       "2010-03-02          35   9997438  528112268  52.75  53.10  52.55  52.65   \n",
       "2010-03-03          36   8764746  462426932  52.70  53.10  52.50  52.65   \n",
       "2010-03-04          37   8149453  426373974  52.75  52.90  51.80  52.20   \n",
       "\n",
       "            Change  Transcation  Tomorrow  ...   SMA_20        RSI      slowk  \\\n",
       "Date                                       ...                                  \n",
       "2010-02-26   -0.10         1366     52.80  ...  52.4075  38.424149  46.288720   \n",
       "2010-03-01    1.25         2066     52.65  ...  52.3275  47.850461  58.861819   \n",
       "2010-03-02   -0.15         1225     52.65  ...  52.2500  46.922188  71.092962   \n",
       "2010-03-03    0.00         1041     52.20  ...  52.2350  46.922188  84.210526   \n",
       "2010-03-04   -0.45         1295     52.95  ...  52.2000  43.955363  77.192982   \n",
       "\n",
       "                slowd      MACD  MACD_signal  MACD_hist  upper_band  \\\n",
       "Date                                                                  \n",
       "2010-02-26  50.743915 -1.500417    -1.927544   0.427127   54.411814   \n",
       "2010-03-01  52.243188 -1.336577    -1.809351   0.472774   54.124296   \n",
       "2010-03-02  58.747834 -1.204946    -1.688470   0.483524   53.838710   \n",
       "2010-03-03  71.388436 -1.088085    -1.568393   0.480308   53.802514   \n",
       "2010-03-04  77.498824 -1.020025    -1.458719   0.438694   53.737530   \n",
       "\n",
       "            middle_band  lower_band  \n",
       "Date                                 \n",
       "2010-02-26      52.4075   50.403186  \n",
       "2010-03-01      52.3275   50.530704  \n",
       "2010-03-02      52.2500   50.661290  \n",
       "2010-03-03      52.2350   50.667486  \n",
       "2010-03-04      52.2000   50.662470  \n",
       "\n",
       "[5 rows x 21 columns]"
      ]
     },
     "execution_count": 4,
     "metadata": {},
     "output_type": "execute_result"
    }
   ],
   "source": [
    "df.head()"
   ]
  },
  {
   "cell_type": "code",
   "execution_count": 5,
   "id": "48b86efe-0ca7-4a65-812c-c2af1340788d",
   "metadata": {},
   "outputs": [],
   "source": [
    "df_reorder = df[['Volume','Open', 'High', 'Low', \n",
    "              'SMA_20', 'RSI', 'slowk', 'slowd', 'MACD', 'MACD_signal', 'MACD_hist', 'upper_band', 'middle_band', 'lower_band', 'Close']]"
   ]
  },
  {
   "cell_type": "code",
   "execution_count": 6,
   "id": "5f97ec4f-9a3e-459b-a3f3-d7c69a11b1b5",
   "metadata": {},
   "outputs": [
    {
     "name": "stdout",
     "output_type": "stream",
     "text": [
      "Index(['Volume', 'Open', 'High', 'Low', 'SMA_20', 'RSI', 'slowk', 'slowd',\n",
      "       'MACD', 'MACD_signal', 'MACD_hist', 'upper_band', 'middle_band',\n",
      "       'lower_band', 'Close'],\n",
      "      dtype='object')\n",
      "(3483, 15)\n",
      "<class 'pandas.core.frame.DataFrame'>\n"
     ]
    }
   ],
   "source": [
    "print(df_reorder.columns)\n",
    "print(df_reorder.shape)\n",
    "print(type(df_reorder))"
   ]
  },
  {
   "cell_type": "code",
   "execution_count": 7,
   "id": "7f96b7b4-fdff-4fe2-8541-7d80920873bf",
   "metadata": {},
   "outputs": [],
   "source": [
    "\n",
    "def windowing(train, val, WINDOW, PREDICTION_SCOPE):\n",
    "    assert type(train) == np.ndarray, \"train must be passed as an array\"\n",
    "    assert type(val) == np.ndarray, \"validation must be passed as an array\"\n",
    "    assert type(WINDOW) == int, \"Window must be an integer\"\n",
    "    assert type(PREDICTION_SCOPE) == int, \"Prediction score must be an integer\"\n",
    "\n",
    "    x_train = []\n",
    "    y_train = []\n",
    "    x_test = []\n",
    "    y_test = []\n",
    "\n",
    "    for i in range(len(train) - (WINDOW + PREDICTION_SCOPE)):\n",
    "        x, y = np.array(train[i:i + WINDOW, :-1]), np.array(train[i + WINDOW + PREDICTION_SCOPE, -1])\n",
    "        x_train.append(x)\n",
    "        y_train.append(y)\n",
    "    for i in range(len(val) - (WINDOW + PREDICTION_SCOPE)):\n",
    "        x, y = np.array(val[i:i + WINDOW, :-1]), np.array(val[i + WINDOW + PREDICTION_SCOPE, -1])\n",
    "        x_test.append(x)\n",
    "        y_test.append(y)\n",
    "\n",
    "\n",
    "    return x_train, y_train, x_test, y_test"
   ]
  },
  {
   "cell_type": "code",
   "execution_count": 9,
   "id": "359f73f1-797b-4411-8654-91c8298f9baa",
   "metadata": {},
   "outputs": [],
   "source": [
    "def train_test_split(data, percentage):\n",
    "    assert type(data) == pd.core.frame.DataFrame, \"data must be a dataframe\"\n",
    "    assert type(percentage) == float, \"percentage must be a float\"\n",
    "\n",
    "    train = data.iloc[:int(len(data) * percentage)]\n",
    "    test = data.iloc[int(len(data) * percentage):]\n",
    "    \n",
    "    return train, test"
   ]
  },
  {
   "cell_type": "code",
   "execution_count": 10,
   "id": "83253c3d-d2b7-4c6e-acce-3eb23e010a32",
   "metadata": {},
   "outputs": [],
   "source": [
    "def train_validation_split(train, percentage):\n",
    "    assert type(train) == pd.core.frame.DataFrame, \"train musst be a dataframe\"\n",
    "    assert type(percentage) == float, \"percentage musst be a float\"\n",
    "    \n",
    "    train_set = np.array(train.iloc[:int(len(train) * percentage)])\n",
    "    validation_set = np.array(train.iloc[int(len(train) * percentage):])\n",
    "    \n",
    "    return train_set, validation_set"
   ]
  },
  {
   "cell_type": "code",
   "execution_count": 11,
   "id": "9bfba897-337a-4aef-8e5b-694eab650634",
   "metadata": {},
   "outputs": [],
   "source": [
    "percentage = 0.8\n",
    "WINDOW = 5\n",
    "PREDICTION_SCOPE = 0"
   ]
  },
  {
   "cell_type": "code",
   "execution_count": 13,
   "id": "d5990c51-ad21-4dbc-808f-93843f6a7007",
   "metadata": {},
   "outputs": [
    {
     "name": "stdout",
     "output_type": "stream",
     "text": [
      "train_set shape: (2228, 15)\n",
      "validation_set shape: (558, 15)\n",
      "test shape: (697, 15)\n",
      "train shape: (2786, 15)\n"
     ]
    }
   ],
   "source": [
    "train, test = train_test_split(df_reorder, percentage)\n",
    "train_set, validation_set = train_validation_split(train, percentage)\n",
    "print(f\"train_set shape: {train_set.shape}\")\n",
    "print(f\"validation_set shape: {validation_set.shape}\")\n",
    "print(f\"test shape: {test.shape}\")\n",
    "print(f\"train shape: {train.shape}\")"
   ]
  },
  {
   "cell_type": "code",
   "execution_count": 14,
   "id": "ec0f3752-ebe2-46f7-b279-bc0d72d3200a",
   "metadata": {},
   "outputs": [
    {
     "name": "stdout",
     "output_type": "stream",
     "text": [
      "X_train shape: (2223, 5, 14)\n",
      "y_train shape: (2223,)\n",
      "X_val shape: (553, 5, 14)\n",
      "y_val shape: (553,)\n"
     ]
    }
   ],
   "source": [
    "X_train, y_train, X_val, y_val = windowing(train_set, validation_set, WINDOW, PREDICTION_SCOPE)\n",
    "#Convert the returned list into arrays\n",
    "X_train = np.array(X_train)\n",
    "y_train = np.array(y_train)\n",
    "X_val = np.array(X_val)\n",
    "y_val = np.array(y_val)\n",
    "print(f\"X_train shape: {X_train.shape}\")\n",
    "print(f\"y_train shape: {y_train.shape}\")\n",
    "print(f\"X_val shape: {X_val.shape}\")\n",
    "print(f\"y_val shape: {y_val.shape}\")"
   ]
  },
  {
   "cell_type": "code",
   "execution_count": 16,
   "id": "0df5b967-c740-40c9-9c20-881f510917e7",
   "metadata": {},
   "outputs": [
    {
     "name": "stdout",
     "output_type": "stream",
     "text": [
      "X_train_new shape: (2223, 70)\n",
      "X_val_new shape: (553, 70)\n"
     ]
    }
   ],
   "source": [
    "#xgboost only allows two dimensional input\n",
    "#reshape x_train and x_val into two dimension by joining the rows of the windowed days into one big input\n",
    "X_train_2dim = X_train.reshape(X_train.shape[0], -1)\n",
    "X_val_2dim = X_val.reshape(X_val.shape[0], -1)\n",
    "print(f\"X_train_new shape: {X_train_2dim.shape}\")\n",
    "print(f\"X_val_new shape: {X_val_2dim.shape}\")"
   ]
  },
  {
   "cell_type": "code",
   "execution_count": 17,
   "id": "76fe1f22-7e1d-4898-9bdd-b1d73fca17dd",
   "metadata": {},
   "outputs": [
    {
     "data": {
      "text/html": [
       "<style>#sk-container-id-1 {color: black;background-color: white;}#sk-container-id-1 pre{padding: 0;}#sk-container-id-1 div.sk-toggleable {background-color: white;}#sk-container-id-1 label.sk-toggleable__label {cursor: pointer;display: block;width: 100%;margin-bottom: 0;padding: 0.3em;box-sizing: border-box;text-align: center;}#sk-container-id-1 label.sk-toggleable__label-arrow:before {content: \"▸\";float: left;margin-right: 0.25em;color: #696969;}#sk-container-id-1 label.sk-toggleable__label-arrow:hover:before {color: black;}#sk-container-id-1 div.sk-estimator:hover label.sk-toggleable__label-arrow:before {color: black;}#sk-container-id-1 div.sk-toggleable__content {max-height: 0;max-width: 0;overflow: hidden;text-align: left;background-color: #f0f8ff;}#sk-container-id-1 div.sk-toggleable__content pre {margin: 0.2em;color: black;border-radius: 0.25em;background-color: #f0f8ff;}#sk-container-id-1 input.sk-toggleable__control:checked~div.sk-toggleable__content {max-height: 200px;max-width: 100%;overflow: auto;}#sk-container-id-1 input.sk-toggleable__control:checked~label.sk-toggleable__label-arrow:before {content: \"▾\";}#sk-container-id-1 div.sk-estimator input.sk-toggleable__control:checked~label.sk-toggleable__label {background-color: #d4ebff;}#sk-container-id-1 div.sk-label input.sk-toggleable__control:checked~label.sk-toggleable__label {background-color: #d4ebff;}#sk-container-id-1 input.sk-hidden--visually {border: 0;clip: rect(1px 1px 1px 1px);clip: rect(1px, 1px, 1px, 1px);height: 1px;margin: -1px;overflow: hidden;padding: 0;position: absolute;width: 1px;}#sk-container-id-1 div.sk-estimator {font-family: monospace;background-color: #f0f8ff;border: 1px dotted black;border-radius: 0.25em;box-sizing: border-box;margin-bottom: 0.5em;}#sk-container-id-1 div.sk-estimator:hover {background-color: #d4ebff;}#sk-container-id-1 div.sk-parallel-item::after {content: \"\";width: 100%;border-bottom: 1px solid gray;flex-grow: 1;}#sk-container-id-1 div.sk-label:hover label.sk-toggleable__label {background-color: #d4ebff;}#sk-container-id-1 div.sk-serial::before {content: \"\";position: absolute;border-left: 1px solid gray;box-sizing: border-box;top: 0;bottom: 0;left: 50%;z-index: 0;}#sk-container-id-1 div.sk-serial {display: flex;flex-direction: column;align-items: center;background-color: white;padding-right: 0.2em;padding-left: 0.2em;position: relative;}#sk-container-id-1 div.sk-item {position: relative;z-index: 1;}#sk-container-id-1 div.sk-parallel {display: flex;align-items: stretch;justify-content: center;background-color: white;position: relative;}#sk-container-id-1 div.sk-item::before, #sk-container-id-1 div.sk-parallel-item::before {content: \"\";position: absolute;border-left: 1px solid gray;box-sizing: border-box;top: 0;bottom: 0;left: 50%;z-index: -1;}#sk-container-id-1 div.sk-parallel-item {display: flex;flex-direction: column;z-index: 1;position: relative;background-color: white;}#sk-container-id-1 div.sk-parallel-item:first-child::after {align-self: flex-end;width: 50%;}#sk-container-id-1 div.sk-parallel-item:last-child::after {align-self: flex-start;width: 50%;}#sk-container-id-1 div.sk-parallel-item:only-child::after {width: 0;}#sk-container-id-1 div.sk-dashed-wrapped {border: 1px dashed gray;margin: 0 0.4em 0.5em 0.4em;box-sizing: border-box;padding-bottom: 0.4em;background-color: white;}#sk-container-id-1 div.sk-label label {font-family: monospace;font-weight: bold;display: inline-block;line-height: 1.2em;}#sk-container-id-1 div.sk-label-container {text-align: center;}#sk-container-id-1 div.sk-container {/* jupyter's `normalize.less` sets `[hidden] { display: none; }` but bootstrap.min.css set `[hidden] { display: none !important; }` so we also need the `!important` here to be able to override the default hidden behavior on the sphinx rendered scikit-learn.org. See: https://github.com/scikit-learn/scikit-learn/issues/21755 */display: inline-block !important;position: relative;}#sk-container-id-1 div.sk-text-repr-fallback {display: none;}</style><div id=\"sk-container-id-1\" class=\"sk-top-container\"><div class=\"sk-text-repr-fallback\"><pre>XGBRegressor(base_score=None, booster=None, callbacks=None,\n",
       "             colsample_bylevel=None, colsample_bynode=None,\n",
       "             colsample_bytree=None, device=None, early_stopping_rounds=None,\n",
       "             enable_categorical=False, eval_metric=None, feature_types=None,\n",
       "             gamma=1, grow_policy=None, importance_type=None,\n",
       "             interaction_constraints=None, learning_rate=None, max_bin=None,\n",
       "             max_cat_threshold=None, max_cat_to_onehot=None,\n",
       "             max_delta_step=None, max_depth=None, max_leaves=None,\n",
       "             min_child_weight=None, missing=nan, monotone_constraints=None,\n",
       "             multi_strategy=None, n_estimators=200, n_jobs=None,\n",
       "             num_parallel_tree=None, random_state=None, ...)</pre><b>In a Jupyter environment, please rerun this cell to show the HTML representation or trust the notebook. <br />On GitHub, the HTML representation is unable to render, please try loading this page with nbviewer.org.</b></div><div class=\"sk-container\" hidden><div class=\"sk-item\"><div class=\"sk-estimator sk-toggleable\"><input class=\"sk-toggleable__control sk-hidden--visually\" id=\"sk-estimator-id-1\" type=\"checkbox\" checked><label for=\"sk-estimator-id-1\" class=\"sk-toggleable__label sk-toggleable__label-arrow\">XGBRegressor</label><div class=\"sk-toggleable__content\"><pre>XGBRegressor(base_score=None, booster=None, callbacks=None,\n",
       "             colsample_bylevel=None, colsample_bynode=None,\n",
       "             colsample_bytree=None, device=None, early_stopping_rounds=None,\n",
       "             enable_categorical=False, eval_metric=None, feature_types=None,\n",
       "             gamma=1, grow_policy=None, importance_type=None,\n",
       "             interaction_constraints=None, learning_rate=None, max_bin=None,\n",
       "             max_cat_threshold=None, max_cat_to_onehot=None,\n",
       "             max_delta_step=None, max_depth=None, max_leaves=None,\n",
       "             min_child_weight=None, missing=nan, monotone_constraints=None,\n",
       "             multi_strategy=None, n_estimators=200, n_jobs=None,\n",
       "             num_parallel_tree=None, random_state=None, ...)</pre></div></div></div></div></div>"
      ],
      "text/plain": [
       "XGBRegressor(base_score=None, booster=None, callbacks=None,\n",
       "             colsample_bylevel=None, colsample_bynode=None,\n",
       "             colsample_bytree=None, device=None, early_stopping_rounds=None,\n",
       "             enable_categorical=False, eval_metric=None, feature_types=None,\n",
       "             gamma=1, grow_policy=None, importance_type=None,\n",
       "             interaction_constraints=None, learning_rate=None, max_bin=None,\n",
       "             max_cat_threshold=None, max_cat_to_onehot=None,\n",
       "             max_delta_step=None, max_depth=None, max_leaves=None,\n",
       "             min_child_weight=None, missing=nan, monotone_constraints=None,\n",
       "             multi_strategy=None, n_estimators=200, n_jobs=None,\n",
       "             num_parallel_tree=None, random_state=None, ...)"
      ]
     },
     "execution_count": 17,
     "metadata": {},
     "output_type": "execute_result"
    }
   ],
   "source": [
    "xgb_model = xgb.XGBRegressor(gamma=1, n_estimators=200)\n",
    "xgb_model.fit(X_train_2dim, y_train)"
   ]
  },
  {
   "cell_type": "code",
   "execution_count": 18,
   "id": "21b80f87-0105-4225-8a61-0d0becab9062",
   "metadata": {},
   "outputs": [],
   "source": [
    "from sklearn.metrics import mean_absolute_error"
   ]
  },
  {
   "cell_type": "code",
   "execution_count": 26,
   "id": "4bced6c1-29b4-4579-a889-71e4c9fe02f1",
   "metadata": {},
   "outputs": [
    {
     "data": {
      "text/plain": [
       "16.271520689814256"
      ]
     },
     "execution_count": 26,
     "metadata": {},
     "output_type": "execute_result"
    }
   ],
   "source": [
    "pred_val = xgb_model.predict(X_val_2dim)\n",
    "mae_val = mean_absolute_error(y_val, pred_val)\n",
    "mae_val"
   ]
  },
  {
   "cell_type": "code",
   "execution_count": 43,
   "id": "05e18e69-c8ea-42c8-94c0-232d4fb0d029",
   "metadata": {},
   "outputs": [
    {
     "name": "stdout",
     "output_type": "stream",
     "text": [
      "(697, 14)\n",
      "(697,)\n"
     ]
    }
   ],
   "source": [
    "#test the model\n",
    "X_test = np.array(test.iloc[:, :-1])\n",
    "y_test = np.array(test.iloc[:, -1])\n",
    "print(X_test.shape)\n",
    "print(y_test.shape)"
   ]
  },
  {
   "cell_type": "code",
   "execution_count": 44,
   "id": "45e64353-2996-4ae7-b9b6-5f918d1aca2e",
   "metadata": {},
   "outputs": [
    {
     "ename": "ValueError",
     "evalue": "Feature shape mismatch, expected: 70, got 14",
     "output_type": "error",
     "traceback": [
      "\u001b[0;31m---------------------------------------------------------------------------\u001b[0m",
      "\u001b[0;31mValueError\u001b[0m                                Traceback (most recent call last)",
      "Cell \u001b[0;32mIn[44], line 1\u001b[0m\n\u001b[0;32m----> 1\u001b[0m pred_test \u001b[38;5;241m=\u001b[39m xgb_model\u001b[38;5;241m.\u001b[39mpredict(X_test)\n",
      "File \u001b[0;32m/opt/anaconda3/lib/python3.11/site-packages/xgboost/sklearn.py:1186\u001b[0m, in \u001b[0;36mXGBModel.predict\u001b[0;34m(self, X, output_margin, validate_features, base_margin, iteration_range)\u001b[0m\n\u001b[1;32m   1184\u001b[0m \u001b[38;5;28;01mif\u001b[39;00m \u001b[38;5;28mself\u001b[39m\u001b[38;5;241m.\u001b[39m_can_use_inplace_predict():\n\u001b[1;32m   1185\u001b[0m     \u001b[38;5;28;01mtry\u001b[39;00m:\n\u001b[0;32m-> 1186\u001b[0m         predts \u001b[38;5;241m=\u001b[39m \u001b[38;5;28mself\u001b[39m\u001b[38;5;241m.\u001b[39mget_booster()\u001b[38;5;241m.\u001b[39minplace_predict(\n\u001b[1;32m   1187\u001b[0m             data\u001b[38;5;241m=\u001b[39mX,\n\u001b[1;32m   1188\u001b[0m             iteration_range\u001b[38;5;241m=\u001b[39miteration_range,\n\u001b[1;32m   1189\u001b[0m             predict_type\u001b[38;5;241m=\u001b[39m\u001b[38;5;124m\"\u001b[39m\u001b[38;5;124mmargin\u001b[39m\u001b[38;5;124m\"\u001b[39m \u001b[38;5;28;01mif\u001b[39;00m output_margin \u001b[38;5;28;01melse\u001b[39;00m \u001b[38;5;124m\"\u001b[39m\u001b[38;5;124mvalue\u001b[39m\u001b[38;5;124m\"\u001b[39m,\n\u001b[1;32m   1190\u001b[0m             missing\u001b[38;5;241m=\u001b[39m\u001b[38;5;28mself\u001b[39m\u001b[38;5;241m.\u001b[39mmissing,\n\u001b[1;32m   1191\u001b[0m             base_margin\u001b[38;5;241m=\u001b[39mbase_margin,\n\u001b[1;32m   1192\u001b[0m             validate_features\u001b[38;5;241m=\u001b[39mvalidate_features,\n\u001b[1;32m   1193\u001b[0m         )\n\u001b[1;32m   1194\u001b[0m         \u001b[38;5;28;01mif\u001b[39;00m _is_cupy_alike(predts):\n\u001b[1;32m   1195\u001b[0m             \u001b[38;5;28;01mimport\u001b[39;00m \u001b[38;5;21;01mcupy\u001b[39;00m  \u001b[38;5;66;03m# pylint: disable=import-error\u001b[39;00m\n",
      "File \u001b[0;32m/opt/anaconda3/lib/python3.11/site-packages/xgboost/core.py:2520\u001b[0m, in \u001b[0;36mBooster.inplace_predict\u001b[0;34m(self, data, iteration_range, predict_type, missing, validate_features, base_margin, strict_shape)\u001b[0m\n\u001b[1;32m   2516\u001b[0m         \u001b[38;5;28;01mraise\u001b[39;00m \u001b[38;5;167;01mTypeError\u001b[39;00m(\n\u001b[1;32m   2517\u001b[0m             \u001b[38;5;124m\"\u001b[39m\u001b[38;5;124m`shape` attribute is required when `validate_features` is True.\u001b[39m\u001b[38;5;124m\"\u001b[39m\n\u001b[1;32m   2518\u001b[0m         )\n\u001b[1;32m   2519\u001b[0m     \u001b[38;5;28;01mif\u001b[39;00m \u001b[38;5;28mlen\u001b[39m(data\u001b[38;5;241m.\u001b[39mshape) \u001b[38;5;241m!=\u001b[39m \u001b[38;5;241m1\u001b[39m \u001b[38;5;129;01mand\u001b[39;00m \u001b[38;5;28mself\u001b[39m\u001b[38;5;241m.\u001b[39mnum_features() \u001b[38;5;241m!=\u001b[39m data\u001b[38;5;241m.\u001b[39mshape[\u001b[38;5;241m1\u001b[39m]:\n\u001b[0;32m-> 2520\u001b[0m         \u001b[38;5;28;01mraise\u001b[39;00m \u001b[38;5;167;01mValueError\u001b[39;00m(\n\u001b[1;32m   2521\u001b[0m             \u001b[38;5;124mf\u001b[39m\u001b[38;5;124m\"\u001b[39m\u001b[38;5;124mFeature shape mismatch, expected: \u001b[39m\u001b[38;5;132;01m{\u001b[39;00m\u001b[38;5;28mself\u001b[39m\u001b[38;5;241m.\u001b[39mnum_features()\u001b[38;5;132;01m}\u001b[39;00m\u001b[38;5;124m, \u001b[39m\u001b[38;5;124m\"\u001b[39m\n\u001b[1;32m   2522\u001b[0m             \u001b[38;5;124mf\u001b[39m\u001b[38;5;124m\"\u001b[39m\u001b[38;5;124mgot \u001b[39m\u001b[38;5;132;01m{\u001b[39;00mdata\u001b[38;5;241m.\u001b[39mshape[\u001b[38;5;241m1\u001b[39m]\u001b[38;5;132;01m}\u001b[39;00m\u001b[38;5;124m\"\u001b[39m\n\u001b[1;32m   2523\u001b[0m         )\n\u001b[1;32m   2525\u001b[0m \u001b[38;5;28;01mif\u001b[39;00m _is_np_array_like(data):\n\u001b[1;32m   2526\u001b[0m     \u001b[38;5;28;01mfrom\u001b[39;00m \u001b[38;5;21;01m.\u001b[39;00m\u001b[38;5;21;01mdata\u001b[39;00m \u001b[38;5;28;01mimport\u001b[39;00m _ensure_np_dtype\n",
      "\u001b[0;31mValueError\u001b[0m: Feature shape mismatch, expected: 70, got 14"
     ]
    }
   ],
   "source": [
    "pred_test = xgb_model.predict(X_test)\n",
    "#ValueError: Feature shape mismatch, expected: 70, got 14"
   ]
  }
 ],
 "metadata": {
  "kernelspec": {
   "display_name": "Python 3 (ipykernel)",
   "language": "python",
   "name": "python3"
  },
  "language_info": {
   "codemirror_mode": {
    "name": "ipython",
    "version": 3
   },
   "file_extension": ".py",
   "mimetype": "text/x-python",
   "name": "python",
   "nbconvert_exporter": "python",
   "pygments_lexer": "ipython3",
   "version": "3.11.7"
  }
 },
 "nbformat": 4,
 "nbformat_minor": 5
}
