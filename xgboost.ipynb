{
 "cells": [
  {
   "cell_type": "code",
   "execution_count": 1,
   "id": "bff9fbd0-9e9e-482c-928a-06e58c1a72f5",
   "metadata": {},
   "outputs": [],
   "source": [
    "#try xgboost\n",
    "import pandas as pd\n",
    "import numpy as np\n",
    "import xgboost as xgb"
   ]
  },
  {
   "cell_type": "code",
   "execution_count": 2,
   "id": "ce7114c5-3b99-44b8-913a-448108dd508a",
   "metadata": {},
   "outputs": [],
   "source": [
    "df = pd.read_csv('/Users/frankieshen/Desktop/ooschool/專案/stock_0050_final.csv', parse_dates = True, index_col = 0)"
   ]
  },
  {
   "cell_type": "code",
   "execution_count": 3,
   "id": "435b9e3c-c09e-40b6-a4f2-eeaecbd2b724",
   "metadata": {},
   "outputs": [
    {
     "name": "stdout",
     "output_type": "stream",
     "text": [
      "Index(['Unnamed: 0', 'Capacity', 'Volume', 'Open', 'High', 'Low', 'Close',\n",
      "       'Change', 'Transcation', 'Tomorrow', 'Target', 'SMA_20', 'RSI', 'slowk',\n",
      "       'slowd', 'MACD', 'MACD_signal', 'MACD_hist', 'upper_band',\n",
      "       'middle_band', 'lower_band'],\n",
      "      dtype='object')\n",
      "(3483, 21)\n",
      "<class 'pandas.core.frame.DataFrame'>\n"
     ]
    }
   ],
   "source": [
    "print(df.columns)\n",
    "print(df.shape)\n",
    "print(type(df))"
   ]
  },
  {
   "cell_type": "code",
   "execution_count": 4,
   "id": "0f60cd45-fbdb-4bc6-afc8-2bf5e53aa56f",
   "metadata": {},
   "outputs": [
    {
     "data": {
      "text/html": [
       "<div>\n",
       "<style scoped>\n",
       "    .dataframe tbody tr th:only-of-type {\n",
       "        vertical-align: middle;\n",
       "    }\n",
       "\n",
       "    .dataframe tbody tr th {\n",
       "        vertical-align: top;\n",
       "    }\n",
       "\n",
       "    .dataframe thead th {\n",
       "        text-align: right;\n",
       "    }\n",
       "</style>\n",
       "<table border=\"1\" class=\"dataframe\">\n",
       "  <thead>\n",
       "    <tr style=\"text-align: right;\">\n",
       "      <th></th>\n",
       "      <th>Unnamed: 0</th>\n",
       "      <th>Capacity</th>\n",
       "      <th>Volume</th>\n",
       "      <th>Open</th>\n",
       "      <th>High</th>\n",
       "      <th>Low</th>\n",
       "      <th>Close</th>\n",
       "      <th>Change</th>\n",
       "      <th>Transcation</th>\n",
       "      <th>Tomorrow</th>\n",
       "      <th>...</th>\n",
       "      <th>SMA_20</th>\n",
       "      <th>RSI</th>\n",
       "      <th>slowk</th>\n",
       "      <th>slowd</th>\n",
       "      <th>MACD</th>\n",
       "      <th>MACD_signal</th>\n",
       "      <th>MACD_hist</th>\n",
       "      <th>upper_band</th>\n",
       "      <th>middle_band</th>\n",
       "      <th>lower_band</th>\n",
       "    </tr>\n",
       "    <tr>\n",
       "      <th>Date</th>\n",
       "      <th></th>\n",
       "      <th></th>\n",
       "      <th></th>\n",
       "      <th></th>\n",
       "      <th></th>\n",
       "      <th></th>\n",
       "      <th></th>\n",
       "      <th></th>\n",
       "      <th></th>\n",
       "      <th></th>\n",
       "      <th></th>\n",
       "      <th></th>\n",
       "      <th></th>\n",
       "      <th></th>\n",
       "      <th></th>\n",
       "      <th></th>\n",
       "      <th></th>\n",
       "      <th></th>\n",
       "      <th></th>\n",
       "      <th></th>\n",
       "      <th></th>\n",
       "    </tr>\n",
       "  </thead>\n",
       "  <tbody>\n",
       "    <tr>\n",
       "      <th>2010-02-26</th>\n",
       "      <td>33</td>\n",
       "      <td>9391284</td>\n",
       "      <td>483837797</td>\n",
       "      <td>51.65</td>\n",
       "      <td>51.75</td>\n",
       "      <td>51.20</td>\n",
       "      <td>51.55</td>\n",
       "      <td>-0.10</td>\n",
       "      <td>1366</td>\n",
       "      <td>52.80</td>\n",
       "      <td>...</td>\n",
       "      <td>52.4075</td>\n",
       "      <td>38.424149</td>\n",
       "      <td>46.288720</td>\n",
       "      <td>50.743915</td>\n",
       "      <td>-1.500417</td>\n",
       "      <td>-1.927544</td>\n",
       "      <td>0.427127</td>\n",
       "      <td>54.411814</td>\n",
       "      <td>52.4075</td>\n",
       "      <td>50.403186</td>\n",
       "    </tr>\n",
       "    <tr>\n",
       "      <th>2010-03-01</th>\n",
       "      <td>34</td>\n",
       "      <td>13647130</td>\n",
       "      <td>715419506</td>\n",
       "      <td>51.50</td>\n",
       "      <td>52.95</td>\n",
       "      <td>51.50</td>\n",
       "      <td>52.80</td>\n",
       "      <td>1.25</td>\n",
       "      <td>2066</td>\n",
       "      <td>52.65</td>\n",
       "      <td>...</td>\n",
       "      <td>52.3275</td>\n",
       "      <td>47.850461</td>\n",
       "      <td>58.861819</td>\n",
       "      <td>52.243188</td>\n",
       "      <td>-1.336577</td>\n",
       "      <td>-1.809351</td>\n",
       "      <td>0.472774</td>\n",
       "      <td>54.124296</td>\n",
       "      <td>52.3275</td>\n",
       "      <td>50.530704</td>\n",
       "    </tr>\n",
       "    <tr>\n",
       "      <th>2010-03-02</th>\n",
       "      <td>35</td>\n",
       "      <td>9997438</td>\n",
       "      <td>528112268</td>\n",
       "      <td>52.75</td>\n",
       "      <td>53.10</td>\n",
       "      <td>52.55</td>\n",
       "      <td>52.65</td>\n",
       "      <td>-0.15</td>\n",
       "      <td>1225</td>\n",
       "      <td>52.65</td>\n",
       "      <td>...</td>\n",
       "      <td>52.2500</td>\n",
       "      <td>46.922188</td>\n",
       "      <td>71.092962</td>\n",
       "      <td>58.747834</td>\n",
       "      <td>-1.204946</td>\n",
       "      <td>-1.688470</td>\n",
       "      <td>0.483524</td>\n",
       "      <td>53.838710</td>\n",
       "      <td>52.2500</td>\n",
       "      <td>50.661290</td>\n",
       "    </tr>\n",
       "    <tr>\n",
       "      <th>2010-03-03</th>\n",
       "      <td>36</td>\n",
       "      <td>8764746</td>\n",
       "      <td>462426932</td>\n",
       "      <td>52.70</td>\n",
       "      <td>53.10</td>\n",
       "      <td>52.50</td>\n",
       "      <td>52.65</td>\n",
       "      <td>0.00</td>\n",
       "      <td>1041</td>\n",
       "      <td>52.20</td>\n",
       "      <td>...</td>\n",
       "      <td>52.2350</td>\n",
       "      <td>46.922188</td>\n",
       "      <td>84.210526</td>\n",
       "      <td>71.388436</td>\n",
       "      <td>-1.088085</td>\n",
       "      <td>-1.568393</td>\n",
       "      <td>0.480308</td>\n",
       "      <td>53.802514</td>\n",
       "      <td>52.2350</td>\n",
       "      <td>50.667486</td>\n",
       "    </tr>\n",
       "    <tr>\n",
       "      <th>2010-03-04</th>\n",
       "      <td>37</td>\n",
       "      <td>8149453</td>\n",
       "      <td>426373974</td>\n",
       "      <td>52.75</td>\n",
       "      <td>52.90</td>\n",
       "      <td>51.80</td>\n",
       "      <td>52.20</td>\n",
       "      <td>-0.45</td>\n",
       "      <td>1295</td>\n",
       "      <td>52.95</td>\n",
       "      <td>...</td>\n",
       "      <td>52.2000</td>\n",
       "      <td>43.955363</td>\n",
       "      <td>77.192982</td>\n",
       "      <td>77.498824</td>\n",
       "      <td>-1.020025</td>\n",
       "      <td>-1.458719</td>\n",
       "      <td>0.438694</td>\n",
       "      <td>53.737530</td>\n",
       "      <td>52.2000</td>\n",
       "      <td>50.662470</td>\n",
       "    </tr>\n",
       "  </tbody>\n",
       "</table>\n",
       "<p>5 rows × 21 columns</p>\n",
       "</div>"
      ],
      "text/plain": [
       "            Unnamed: 0  Capacity     Volume   Open   High    Low  Close  \\\n",
       "Date                                                                      \n",
       "2010-02-26          33   9391284  483837797  51.65  51.75  51.20  51.55   \n",
       "2010-03-01          34  13647130  715419506  51.50  52.95  51.50  52.80   \n",
       "2010-03-02          35   9997438  528112268  52.75  53.10  52.55  52.65   \n",
       "2010-03-03          36   8764746  462426932  52.70  53.10  52.50  52.65   \n",
       "2010-03-04          37   8149453  426373974  52.75  52.90  51.80  52.20   \n",
       "\n",
       "            Change  Transcation  Tomorrow  ...   SMA_20        RSI      slowk  \\\n",
       "Date                                       ...                                  \n",
       "2010-02-26   -0.10         1366     52.80  ...  52.4075  38.424149  46.288720   \n",
       "2010-03-01    1.25         2066     52.65  ...  52.3275  47.850461  58.861819   \n",
       "2010-03-02   -0.15         1225     52.65  ...  52.2500  46.922188  71.092962   \n",
       "2010-03-03    0.00         1041     52.20  ...  52.2350  46.922188  84.210526   \n",
       "2010-03-04   -0.45         1295     52.95  ...  52.2000  43.955363  77.192982   \n",
       "\n",
       "                slowd      MACD  MACD_signal  MACD_hist  upper_band  \\\n",
       "Date                                                                  \n",
       "2010-02-26  50.743915 -1.500417    -1.927544   0.427127   54.411814   \n",
       "2010-03-01  52.243188 -1.336577    -1.809351   0.472774   54.124296   \n",
       "2010-03-02  58.747834 -1.204946    -1.688470   0.483524   53.838710   \n",
       "2010-03-03  71.388436 -1.088085    -1.568393   0.480308   53.802514   \n",
       "2010-03-04  77.498824 -1.020025    -1.458719   0.438694   53.737530   \n",
       "\n",
       "            middle_band  lower_band  \n",
       "Date                                 \n",
       "2010-02-26      52.4075   50.403186  \n",
       "2010-03-01      52.3275   50.530704  \n",
       "2010-03-02      52.2500   50.661290  \n",
       "2010-03-03      52.2350   50.667486  \n",
       "2010-03-04      52.2000   50.662470  \n",
       "\n",
       "[5 rows x 21 columns]"
      ]
     },
     "execution_count": 4,
     "metadata": {},
     "output_type": "execute_result"
    }
   ],
   "source": [
    "df.head()"
   ]
  },
  {
   "cell_type": "code",
   "execution_count": 6,
   "id": "48b86efe-0ca7-4a65-812c-c2af1340788d",
   "metadata": {},
   "outputs": [],
   "source": [
    "df_reorder = df[['Volume','Open', 'High', 'Low', \n",
    "              'SMA_20', 'RSI', 'slowk', 'slowd', 'MACD', 'MACD_signal', 'MACD_hist', 'upper_band', 'middle_band', 'lower_band', 'Close']]"
   ]
  },
  {
   "cell_type": "code",
   "execution_count": 7,
   "id": "5f97ec4f-9a3e-459b-a3f3-d7c69a11b1b5",
   "metadata": {},
   "outputs": [
    {
     "name": "stdout",
     "output_type": "stream",
     "text": [
      "Index(['Volume', 'Open', 'High', 'Low', 'SMA_20', 'RSI', 'slowk', 'slowd',\n",
      "       'MACD', 'MACD_signal', 'MACD_hist', 'upper_band', 'middle_band',\n",
      "       'lower_band', 'Close'],\n",
      "      dtype='object')\n",
      "(3483, 15)\n",
      "<class 'pandas.core.frame.DataFrame'>\n"
     ]
    }
   ],
   "source": [
    "print(df_reorder.columns)\n",
    "print(df_reorder.shape)\n",
    "print(type(df_reorder))"
   ]
  },
  {
   "cell_type": "code",
   "execution_count": 8,
   "id": "7f96b7b4-fdff-4fe2-8541-7d80920873bf",
   "metadata": {},
   "outputs": [],
   "source": [
    "\n",
    "def windowing(train, val, WINDOW, PREDICTION_SCOPE):\n",
    "    assert type(train) == np.ndarray, \"train must be passed as an array\"\n",
    "    assert type(val) == np.ndarray, \"validation must be passed as an array\"\n",
    "    assert type(WINDOW) == int, \"Window must be an integer\"\n",
    "    assert type(PREDICTION_SCOPE) == int, \"Prediction score must be an integer\"\n",
    "\n",
    "    x_train = []\n",
    "    y_train = []\n",
    "    x_test = []\n",
    "    y_test = []\n",
    "\n",
    "    for i in range(len(train) - (WINDOW + PREDICTION_SCOPE)):\n",
    "        x, y = np.array(train[i:i + WINDOW, :-1]), np.array(train[i + WINDOW + PREDICTION_SCOPE, -1])\n",
    "        x_train.append(x)\n",
    "        y_train.append(y)\n",
    "    for i in range(len(val) - (WINDOW + PREDICTION_SCOPE)):\n",
    "        x, y = np.array(val[i:i + WINDOW, :-1]), np.array(val[i + WINDOW + PREDICTION_SCOPE, -1])\n",
    "        x_test.append(x)\n",
    "        y_test.append(y)\n",
    "\n",
    "\n",
    "    return x_train, y_train, x_test, y_test"
   ]
  },
  {
   "cell_type": "code",
   "execution_count": 9,
   "id": "cee62b65-a26c-4c34-9aec-533f00a76e1d",
   "metadata": {},
   "outputs": [],
   "source": [
    "def train_test_split(data, WINDOW):\n",
    "    assert type(data) == pd.core.frame.DataFrame, \"data musst be a dataframe\"\n",
    "    assert type(WINDOW) == int, \"Window musst be an integer\"\n",
    "    \n",
    "    train = data.iloc[:-WINDOW]\n",
    "    test = data.iloc[-WINDOW:]\n",
    "    \n",
    "    return train, test"
   ]
  },
  {
   "cell_type": "code",
   "execution_count": 10,
   "id": "83253c3d-d2b7-4c6e-acce-3eb23e010a32",
   "metadata": {},
   "outputs": [],
   "source": [
    "def train_validation_split(train, percentage):\n",
    "    assert type(train) == pd.core.frame.DataFrame, \"train musst be a dataframe\"\n",
    "    assert type(percentage) == float, \"percentage musst be a float\"\n",
    "    \n",
    "    train_set = np.array(train.iloc[:int(len(train) * percentage)])\n",
    "    validation_set = np.array(train.iloc[int(len(train) * percentage):])\n",
    "    \n",
    "    return train_set, validation_set"
   ]
  },
  {
   "cell_type": "code",
   "execution_count": 11,
   "id": "9bfba897-337a-4aef-8e5b-694eab650634",
   "metadata": {},
   "outputs": [],
   "source": [
    "percentage = 0.8\n",
    "WINDOW = 5\n",
    "PREDICTION_SCOPE = 0"
   ]
  },
  {
   "cell_type": "code",
   "execution_count": 12,
   "id": "d5990c51-ad21-4dbc-808f-93843f6a7007",
   "metadata": {},
   "outputs": [
    {
     "name": "stdout",
     "output_type": "stream",
     "text": [
      "train_set shape: (2782, 15)\n",
      "validation_set shape: (696, 15)\n",
      "test shape: (5, 15)\n",
      "train shape: (3478, 15)\n"
     ]
    }
   ],
   "source": [
    "train, test = train_test_split(df_reorder, WINDOW)\n",
    "train_set, validation_set = train_validation_split(train, percentage)\n",
    "print(f\"train_set shape: {train_set.shape}\")\n",
    "print(f\"validation_set shape: {validation_set.shape}\")\n",
    "print(f\"test shape: {test.shape}\")\n",
    "print(f\"train shape: {train.shape}\")"
   ]
  },
  {
   "cell_type": "code",
   "execution_count": 13,
   "id": "ec0f3752-ebe2-46f7-b279-bc0d72d3200a",
   "metadata": {},
   "outputs": [
    {
     "name": "stdout",
     "output_type": "stream",
     "text": [
      "X_train shape: (2777, 5, 14)\n",
      "y_train shape: (2777,)\n",
      "X_val shape: (691, 5, 14)\n",
      "y_val shape: (691,)\n"
     ]
    }
   ],
   "source": [
    "X_train, y_train, X_val, y_val = windowing(train_set, validation_set, WINDOW, PREDICTION_SCOPE)\n",
    "#Convert the returned list into arrays\n",
    "X_train = np.array(X_train)\n",
    "y_train = np.array(y_train)\n",
    "X_val = np.array(X_val)\n",
    "y_val = np.array(y_val)\n",
    "print(f\"X_train shape: {X_train.shape}\")\n",
    "print(f\"y_train shape: {y_train.shape}\")\n",
    "print(f\"X_val shape: {X_val.shape}\")\n",
    "print(f\"y_val shape: {y_val.shape}\")"
   ]
  },
  {
   "cell_type": "code",
   "execution_count": 14,
   "id": "0df5b967-c740-40c9-9c20-881f510917e7",
   "metadata": {},
   "outputs": [
    {
     "name": "stdout",
     "output_type": "stream",
     "text": [
      "X_train_new shape: (2777, 70)\n",
      "X_val_new shape: (691, 70)\n"
     ]
    }
   ],
   "source": [
    "#xgboost only allows two dimensional input\n",
    "#reshape x_train and x_val into two dimension by joining the rows of the windowed days into one big input\n",
    "X_train_2dim = X_train.reshape(X_train.shape[0], -1)\n",
    "X_val_2dim = X_val.reshape(X_val.shape[0], -1)\n",
    "print(f\"X_train_new shape: {X_train_2dim.shape}\")\n",
    "print(f\"X_val_new shape: {X_val_2dim.shape}\")"
   ]
  },
  {
   "cell_type": "code",
   "execution_count": 15,
   "id": "76fe1f22-7e1d-4898-9bdd-b1d73fca17dd",
   "metadata": {},
   "outputs": [
    {
     "data": {
      "text/html": [
       "<style>#sk-container-id-1 {color: black;background-color: white;}#sk-container-id-1 pre{padding: 0;}#sk-container-id-1 div.sk-toggleable {background-color: white;}#sk-container-id-1 label.sk-toggleable__label {cursor: pointer;display: block;width: 100%;margin-bottom: 0;padding: 0.3em;box-sizing: border-box;text-align: center;}#sk-container-id-1 label.sk-toggleable__label-arrow:before {content: \"▸\";float: left;margin-right: 0.25em;color: #696969;}#sk-container-id-1 label.sk-toggleable__label-arrow:hover:before {color: black;}#sk-container-id-1 div.sk-estimator:hover label.sk-toggleable__label-arrow:before {color: black;}#sk-container-id-1 div.sk-toggleable__content {max-height: 0;max-width: 0;overflow: hidden;text-align: left;background-color: #f0f8ff;}#sk-container-id-1 div.sk-toggleable__content pre {margin: 0.2em;color: black;border-radius: 0.25em;background-color: #f0f8ff;}#sk-container-id-1 input.sk-toggleable__control:checked~div.sk-toggleable__content {max-height: 200px;max-width: 100%;overflow: auto;}#sk-container-id-1 input.sk-toggleable__control:checked~label.sk-toggleable__label-arrow:before {content: \"▾\";}#sk-container-id-1 div.sk-estimator input.sk-toggleable__control:checked~label.sk-toggleable__label {background-color: #d4ebff;}#sk-container-id-1 div.sk-label input.sk-toggleable__control:checked~label.sk-toggleable__label {background-color: #d4ebff;}#sk-container-id-1 input.sk-hidden--visually {border: 0;clip: rect(1px 1px 1px 1px);clip: rect(1px, 1px, 1px, 1px);height: 1px;margin: -1px;overflow: hidden;padding: 0;position: absolute;width: 1px;}#sk-container-id-1 div.sk-estimator {font-family: monospace;background-color: #f0f8ff;border: 1px dotted black;border-radius: 0.25em;box-sizing: border-box;margin-bottom: 0.5em;}#sk-container-id-1 div.sk-estimator:hover {background-color: #d4ebff;}#sk-container-id-1 div.sk-parallel-item::after {content: \"\";width: 100%;border-bottom: 1px solid gray;flex-grow: 1;}#sk-container-id-1 div.sk-label:hover label.sk-toggleable__label {background-color: #d4ebff;}#sk-container-id-1 div.sk-serial::before {content: \"\";position: absolute;border-left: 1px solid gray;box-sizing: border-box;top: 0;bottom: 0;left: 50%;z-index: 0;}#sk-container-id-1 div.sk-serial {display: flex;flex-direction: column;align-items: center;background-color: white;padding-right: 0.2em;padding-left: 0.2em;position: relative;}#sk-container-id-1 div.sk-item {position: relative;z-index: 1;}#sk-container-id-1 div.sk-parallel {display: flex;align-items: stretch;justify-content: center;background-color: white;position: relative;}#sk-container-id-1 div.sk-item::before, #sk-container-id-1 div.sk-parallel-item::before {content: \"\";position: absolute;border-left: 1px solid gray;box-sizing: border-box;top: 0;bottom: 0;left: 50%;z-index: -1;}#sk-container-id-1 div.sk-parallel-item {display: flex;flex-direction: column;z-index: 1;position: relative;background-color: white;}#sk-container-id-1 div.sk-parallel-item:first-child::after {align-self: flex-end;width: 50%;}#sk-container-id-1 div.sk-parallel-item:last-child::after {align-self: flex-start;width: 50%;}#sk-container-id-1 div.sk-parallel-item:only-child::after {width: 0;}#sk-container-id-1 div.sk-dashed-wrapped {border: 1px dashed gray;margin: 0 0.4em 0.5em 0.4em;box-sizing: border-box;padding-bottom: 0.4em;background-color: white;}#sk-container-id-1 div.sk-label label {font-family: monospace;font-weight: bold;display: inline-block;line-height: 1.2em;}#sk-container-id-1 div.sk-label-container {text-align: center;}#sk-container-id-1 div.sk-container {/* jupyter's `normalize.less` sets `[hidden] { display: none; }` but bootstrap.min.css set `[hidden] { display: none !important; }` so we also need the `!important` here to be able to override the default hidden behavior on the sphinx rendered scikit-learn.org. See: https://github.com/scikit-learn/scikit-learn/issues/21755 */display: inline-block !important;position: relative;}#sk-container-id-1 div.sk-text-repr-fallback {display: none;}</style><div id=\"sk-container-id-1\" class=\"sk-top-container\"><div class=\"sk-text-repr-fallback\"><pre>XGBRegressor(base_score=None, booster=None, callbacks=None,\n",
       "             colsample_bylevel=None, colsample_bynode=None,\n",
       "             colsample_bytree=None, device=None, early_stopping_rounds=None,\n",
       "             enable_categorical=False, eval_metric=None, feature_types=None,\n",
       "             gamma=1, grow_policy=None, importance_type=None,\n",
       "             interaction_constraints=None, learning_rate=None, max_bin=None,\n",
       "             max_cat_threshold=None, max_cat_to_onehot=None,\n",
       "             max_delta_step=None, max_depth=None, max_leaves=None,\n",
       "             min_child_weight=None, missing=nan, monotone_constraints=None,\n",
       "             multi_strategy=None, n_estimators=200, n_jobs=None,\n",
       "             num_parallel_tree=None, random_state=None, ...)</pre><b>In a Jupyter environment, please rerun this cell to show the HTML representation or trust the notebook. <br />On GitHub, the HTML representation is unable to render, please try loading this page with nbviewer.org.</b></div><div class=\"sk-container\" hidden><div class=\"sk-item\"><div class=\"sk-estimator sk-toggleable\"><input class=\"sk-toggleable__control sk-hidden--visually\" id=\"sk-estimator-id-1\" type=\"checkbox\" checked><label for=\"sk-estimator-id-1\" class=\"sk-toggleable__label sk-toggleable__label-arrow\">XGBRegressor</label><div class=\"sk-toggleable__content\"><pre>XGBRegressor(base_score=None, booster=None, callbacks=None,\n",
       "             colsample_bylevel=None, colsample_bynode=None,\n",
       "             colsample_bytree=None, device=None, early_stopping_rounds=None,\n",
       "             enable_categorical=False, eval_metric=None, feature_types=None,\n",
       "             gamma=1, grow_policy=None, importance_type=None,\n",
       "             interaction_constraints=None, learning_rate=None, max_bin=None,\n",
       "             max_cat_threshold=None, max_cat_to_onehot=None,\n",
       "             max_delta_step=None, max_depth=None, max_leaves=None,\n",
       "             min_child_weight=None, missing=nan, monotone_constraints=None,\n",
       "             multi_strategy=None, n_estimators=200, n_jobs=None,\n",
       "             num_parallel_tree=None, random_state=None, ...)</pre></div></div></div></div></div>"
      ],
      "text/plain": [
       "XGBRegressor(base_score=None, booster=None, callbacks=None,\n",
       "             colsample_bylevel=None, colsample_bynode=None,\n",
       "             colsample_bytree=None, device=None, early_stopping_rounds=None,\n",
       "             enable_categorical=False, eval_metric=None, feature_types=None,\n",
       "             gamma=1, grow_policy=None, importance_type=None,\n",
       "             interaction_constraints=None, learning_rate=None, max_bin=None,\n",
       "             max_cat_threshold=None, max_cat_to_onehot=None,\n",
       "             max_delta_step=None, max_depth=None, max_leaves=None,\n",
       "             min_child_weight=None, missing=nan, monotone_constraints=None,\n",
       "             multi_strategy=None, n_estimators=200, n_jobs=None,\n",
       "             num_parallel_tree=None, random_state=None, ...)"
      ]
     },
     "execution_count": 15,
     "metadata": {},
     "output_type": "execute_result"
    }
   ],
   "source": [
    "xgb_model = xgb.XGBRegressor(gamma=1, n_estimators=200)\n",
    "xgb_model.fit(X_train_2dim, y_train)"
   ]
  },
  {
   "cell_type": "code",
   "execution_count": 16,
   "id": "21b80f87-0105-4225-8a61-0d0becab9062",
   "metadata": {},
   "outputs": [],
   "source": [
    "from sklearn.metrics import mean_absolute_error"
   ]
  },
  {
   "cell_type": "code",
   "execution_count": 17,
   "id": "4bced6c1-29b4-4579-a889-71e4c9fe02f1",
   "metadata": {},
   "outputs": [
    {
     "data": {
      "text/plain": [
       "4.42983532697178"
      ]
     },
     "execution_count": 17,
     "metadata": {},
     "output_type": "execute_result"
    }
   ],
   "source": [
    "pred_val = xgb_model.predict(X_val_2dim)\n",
    "mae = mean_absolute_error(y_val, pred_val)\n",
    "mae"
   ]
  },
  {
   "cell_type": "code",
   "execution_count": null,
   "id": "bc28fdb5-63e6-4b8c-b1d9-2ac03ccd44e2",
   "metadata": {},
   "outputs": [],
   "source": [
    "#try use percentage to split train and test data"
   ]
  },
  {
   "cell_type": "code",
   "execution_count": 23,
   "id": "359f73f1-797b-4411-8654-91c8298f9baa",
   "metadata": {},
   "outputs": [],
   "source": [
    "def train_test_split2(data, percentage):\n",
    "    assert type(data) == pd.core.frame.DataFrame, \"data must be a dataframe\"\n",
    "    assert type(percentage) == float, \"percentage must be a float\"\n",
    "\n",
    "    train = data.iloc[:int(len(data) * percentage)]\n",
    "    test = data.iloc[int(len(data) * percentage):]\n",
    "    \n",
    "    return train, test"
   ]
  },
  {
   "cell_type": "code",
   "execution_count": 24,
   "id": "8e4f2f27-25eb-4377-977f-9b46587f1e80",
   "metadata": {},
   "outputs": [
    {
     "name": "stdout",
     "output_type": "stream",
     "text": [
      "train_set2 shape: (2228, 15)\n",
      "validation_set2 shape: (558, 15)\n",
      "test2 shape: (697, 15)\n",
      "train2 shape: (2786, 15)\n"
     ]
    }
   ],
   "source": [
    "train2, test2 = train_test_split2(df_reorder, percentage)\n",
    "train_set2, validation_set2 = train_validation_split(train2, percentage)\n",
    "print(f\"train_set2 shape: {train_set2.shape}\")\n",
    "print(f\"validation_set2 shape: {validation_set2.shape}\")\n",
    "print(f\"test2 shape: {test2.shape}\")\n",
    "print(f\"train2 shape: {train2.shape}\")"
   ]
  },
  {
   "cell_type": "code",
   "execution_count": 31,
   "id": "cc701803-29f4-4af4-a03b-a73bd741580f",
   "metadata": {},
   "outputs": [
    {
     "name": "stdout",
     "output_type": "stream",
     "text": [
      "X_train2 shape: (2223, 5, 14)\n",
      "y_train2 shape: (2223,)\n",
      "X_val2 shape: (553, 5, 14)\n",
      "y_val2 shape: (553,)\n"
     ]
    }
   ],
   "source": [
    "X_train2, y_train2, X_val2, y_val2 = windowing(train_set2, validation_set2, WINDOW, PREDICTION_SCOPE)\n",
    "#Convert the returned list into arrays\n",
    "X_train2 = np.array(X_train2)\n",
    "y_train2 = np.array(y_train2)\n",
    "X_val2 = np.array(X_val2)\n",
    "y_val2 = np.array(y_val2)\n",
    "print(f\"X_train2 shape: {X_train2.shape}\")\n",
    "print(f\"y_train2 shape: {y_train2.shape}\")\n",
    "print(f\"X_val2 shape: {X_val2.shape}\")\n",
    "print(f\"y_val2 shape: {y_val2.shape}\")"
   ]
  },
  {
   "cell_type": "code",
   "execution_count": 32,
   "id": "d74f4a42-1bbf-432b-9a3e-c523b8a467a1",
   "metadata": {},
   "outputs": [
    {
     "name": "stdout",
     "output_type": "stream",
     "text": [
      "X_train2_new shape: (2223, 70)\n",
      "X_val2_new shape: (553, 70)\n"
     ]
    }
   ],
   "source": [
    "#xgboost only allows two dimensional input\n",
    "#reshape x_train and x_val into two dimension by joining the rows of the windowed days into one big input\n",
    "X_train2_2dim = X_train2.reshape(X_train2.shape[0], -1)\n",
    "X_val2_2dim = X_val2.reshape(X_val2.shape[0], -1)\n",
    "print(f\"X_train2_new shape: {X_train2_2dim.shape}\")\n",
    "print(f\"X_val2_new shape: {X_val2_2dim.shape}\")"
   ]
  },
  {
   "cell_type": "code",
   "execution_count": 33,
   "id": "194be085-49f4-4004-9548-7b8316a84d52",
   "metadata": {},
   "outputs": [
    {
     "data": {
      "text/html": [
       "<style>#sk-container-id-2 {color: black;background-color: white;}#sk-container-id-2 pre{padding: 0;}#sk-container-id-2 div.sk-toggleable {background-color: white;}#sk-container-id-2 label.sk-toggleable__label {cursor: pointer;display: block;width: 100%;margin-bottom: 0;padding: 0.3em;box-sizing: border-box;text-align: center;}#sk-container-id-2 label.sk-toggleable__label-arrow:before {content: \"▸\";float: left;margin-right: 0.25em;color: #696969;}#sk-container-id-2 label.sk-toggleable__label-arrow:hover:before {color: black;}#sk-container-id-2 div.sk-estimator:hover label.sk-toggleable__label-arrow:before {color: black;}#sk-container-id-2 div.sk-toggleable__content {max-height: 0;max-width: 0;overflow: hidden;text-align: left;background-color: #f0f8ff;}#sk-container-id-2 div.sk-toggleable__content pre {margin: 0.2em;color: black;border-radius: 0.25em;background-color: #f0f8ff;}#sk-container-id-2 input.sk-toggleable__control:checked~div.sk-toggleable__content {max-height: 200px;max-width: 100%;overflow: auto;}#sk-container-id-2 input.sk-toggleable__control:checked~label.sk-toggleable__label-arrow:before {content: \"▾\";}#sk-container-id-2 div.sk-estimator input.sk-toggleable__control:checked~label.sk-toggleable__label {background-color: #d4ebff;}#sk-container-id-2 div.sk-label input.sk-toggleable__control:checked~label.sk-toggleable__label {background-color: #d4ebff;}#sk-container-id-2 input.sk-hidden--visually {border: 0;clip: rect(1px 1px 1px 1px);clip: rect(1px, 1px, 1px, 1px);height: 1px;margin: -1px;overflow: hidden;padding: 0;position: absolute;width: 1px;}#sk-container-id-2 div.sk-estimator {font-family: monospace;background-color: #f0f8ff;border: 1px dotted black;border-radius: 0.25em;box-sizing: border-box;margin-bottom: 0.5em;}#sk-container-id-2 div.sk-estimator:hover {background-color: #d4ebff;}#sk-container-id-2 div.sk-parallel-item::after {content: \"\";width: 100%;border-bottom: 1px solid gray;flex-grow: 1;}#sk-container-id-2 div.sk-label:hover label.sk-toggleable__label {background-color: #d4ebff;}#sk-container-id-2 div.sk-serial::before {content: \"\";position: absolute;border-left: 1px solid gray;box-sizing: border-box;top: 0;bottom: 0;left: 50%;z-index: 0;}#sk-container-id-2 div.sk-serial {display: flex;flex-direction: column;align-items: center;background-color: white;padding-right: 0.2em;padding-left: 0.2em;position: relative;}#sk-container-id-2 div.sk-item {position: relative;z-index: 1;}#sk-container-id-2 div.sk-parallel {display: flex;align-items: stretch;justify-content: center;background-color: white;position: relative;}#sk-container-id-2 div.sk-item::before, #sk-container-id-2 div.sk-parallel-item::before {content: \"\";position: absolute;border-left: 1px solid gray;box-sizing: border-box;top: 0;bottom: 0;left: 50%;z-index: -1;}#sk-container-id-2 div.sk-parallel-item {display: flex;flex-direction: column;z-index: 1;position: relative;background-color: white;}#sk-container-id-2 div.sk-parallel-item:first-child::after {align-self: flex-end;width: 50%;}#sk-container-id-2 div.sk-parallel-item:last-child::after {align-self: flex-start;width: 50%;}#sk-container-id-2 div.sk-parallel-item:only-child::after {width: 0;}#sk-container-id-2 div.sk-dashed-wrapped {border: 1px dashed gray;margin: 0 0.4em 0.5em 0.4em;box-sizing: border-box;padding-bottom: 0.4em;background-color: white;}#sk-container-id-2 div.sk-label label {font-family: monospace;font-weight: bold;display: inline-block;line-height: 1.2em;}#sk-container-id-2 div.sk-label-container {text-align: center;}#sk-container-id-2 div.sk-container {/* jupyter's `normalize.less` sets `[hidden] { display: none; }` but bootstrap.min.css set `[hidden] { display: none !important; }` so we also need the `!important` here to be able to override the default hidden behavior on the sphinx rendered scikit-learn.org. See: https://github.com/scikit-learn/scikit-learn/issues/21755 */display: inline-block !important;position: relative;}#sk-container-id-2 div.sk-text-repr-fallback {display: none;}</style><div id=\"sk-container-id-2\" class=\"sk-top-container\"><div class=\"sk-text-repr-fallback\"><pre>XGBRegressor(base_score=None, booster=None, callbacks=None,\n",
       "             colsample_bylevel=None, colsample_bynode=None,\n",
       "             colsample_bytree=None, device=None, early_stopping_rounds=None,\n",
       "             enable_categorical=False, eval_metric=None, feature_types=None,\n",
       "             gamma=1, grow_policy=None, importance_type=None,\n",
       "             interaction_constraints=None, learning_rate=None, max_bin=None,\n",
       "             max_cat_threshold=None, max_cat_to_onehot=None,\n",
       "             max_delta_step=None, max_depth=None, max_leaves=None,\n",
       "             min_child_weight=None, missing=nan, monotone_constraints=None,\n",
       "             multi_strategy=None, n_estimators=200, n_jobs=None,\n",
       "             num_parallel_tree=None, random_state=None, ...)</pre><b>In a Jupyter environment, please rerun this cell to show the HTML representation or trust the notebook. <br />On GitHub, the HTML representation is unable to render, please try loading this page with nbviewer.org.</b></div><div class=\"sk-container\" hidden><div class=\"sk-item\"><div class=\"sk-estimator sk-toggleable\"><input class=\"sk-toggleable__control sk-hidden--visually\" id=\"sk-estimator-id-2\" type=\"checkbox\" checked><label for=\"sk-estimator-id-2\" class=\"sk-toggleable__label sk-toggleable__label-arrow\">XGBRegressor</label><div class=\"sk-toggleable__content\"><pre>XGBRegressor(base_score=None, booster=None, callbacks=None,\n",
       "             colsample_bylevel=None, colsample_bynode=None,\n",
       "             colsample_bytree=None, device=None, early_stopping_rounds=None,\n",
       "             enable_categorical=False, eval_metric=None, feature_types=None,\n",
       "             gamma=1, grow_policy=None, importance_type=None,\n",
       "             interaction_constraints=None, learning_rate=None, max_bin=None,\n",
       "             max_cat_threshold=None, max_cat_to_onehot=None,\n",
       "             max_delta_step=None, max_depth=None, max_leaves=None,\n",
       "             min_child_weight=None, missing=nan, monotone_constraints=None,\n",
       "             multi_strategy=None, n_estimators=200, n_jobs=None,\n",
       "             num_parallel_tree=None, random_state=None, ...)</pre></div></div></div></div></div>"
      ],
      "text/plain": [
       "XGBRegressor(base_score=None, booster=None, callbacks=None,\n",
       "             colsample_bylevel=None, colsample_bynode=None,\n",
       "             colsample_bytree=None, device=None, early_stopping_rounds=None,\n",
       "             enable_categorical=False, eval_metric=None, feature_types=None,\n",
       "             gamma=1, grow_policy=None, importance_type=None,\n",
       "             interaction_constraints=None, learning_rate=None, max_bin=None,\n",
       "             max_cat_threshold=None, max_cat_to_onehot=None,\n",
       "             max_delta_step=None, max_depth=None, max_leaves=None,\n",
       "             min_child_weight=None, missing=nan, monotone_constraints=None,\n",
       "             multi_strategy=None, n_estimators=200, n_jobs=None,\n",
       "             num_parallel_tree=None, random_state=None, ...)"
      ]
     },
     "execution_count": 33,
     "metadata": {},
     "output_type": "execute_result"
    }
   ],
   "source": [
    "xgb_model = xgb.XGBRegressor(gamma=1, n_estimators=200)\n",
    "xgb_model.fit(X_train2_2dim, y_train2)"
   ]
  },
  {
   "cell_type": "code",
   "execution_count": 34,
   "id": "a31fa869-22e8-4008-a844-cc9bf56002b9",
   "metadata": {},
   "outputs": [
    {
     "data": {
      "text/plain": [
       "16.271520689814256"
      ]
     },
     "execution_count": 34,
     "metadata": {},
     "output_type": "execute_result"
    }
   ],
   "source": [
    "pred_val2 = xgb_model.predict(X_val2_2dim)\n",
    "mae2 = mean_absolute_error(y_val2, pred_val2)\n",
    "mae2\n",
    "#mae = 4.42983532697178"
   ]
  }
 ],
 "metadata": {
  "kernelspec": {
   "display_name": "Python 3 (ipykernel)",
   "language": "python",
   "name": "python3"
  },
  "language_info": {
   "codemirror_mode": {
    "name": "ipython",
    "version": 3
   },
   "file_extension": ".py",
   "mimetype": "text/x-python",
   "name": "python",
   "nbconvert_exporter": "python",
   "pygments_lexer": "ipython3",
   "version": "3.11.7"
  }
 },
 "nbformat": 4,
 "nbformat_minor": 5
}
